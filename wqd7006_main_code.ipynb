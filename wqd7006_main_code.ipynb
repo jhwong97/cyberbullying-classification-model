{
 "cells": [
  {
   "cell_type": "markdown",
   "id": "e5e12980-5f2e-4c4e-92dd-f4c982d7eb1b",
   "metadata": {},
   "source": [
    "# Cyberbullying Classification by Type\n",
    "The objective of this work is to create a multi-label classification model to classify the text according to a set of cyberbullying types - Sexual_Type1, Sexual_Type2, Physical_Appearance, Race, Intellectual, Religious, General Hate, and Neutral."
   ]
  },
  {
   "cell_type": "markdown",
   "id": "2955fa56-0da2-4536-8ffa-c42f86856e1b",
   "metadata": {},
   "source": [
    "## Import Python Packages"
   ]
  },
  {
   "cell_type": "code",
   "execution_count": 1,
   "id": "efbd4533-a9a0-4d00-b9db-8b456f8ac62f",
   "metadata": {
    "tags": []
   },
   "outputs": [],
   "source": [
    "import pandas as pd\n",
    "import os"
   ]
  },
  {
   "cell_type": "markdown",
   "id": "cf9d9441-c3dd-4d4e-bf7c-abf48a840586",
   "metadata": {},
   "source": [
    "## Data Extraction\n",
    "The process to extract data from a given .csv files."
   ]
  },
  {
   "cell_type": "code",
   "execution_count": 2,
   "id": "6a623ace-c51a-4fbf-94b9-5d48a77c0041",
   "metadata": {
    "tags": []
   },
   "outputs": [],
   "source": [
    "# Setting the folder path to the location of original dataset\n",
    "folder_path = r\"./Dataset/\"\n",
    "\n",
    "# Create an empty list for storing the created dataframe from original dataset\n",
    "filtered_dfs = []\n",
    "\n",
    "# Loop through all files in the folder\n",
    "for filename in os.listdir(folder_path):\n",
    "    # Read only files with name ends with .xlsx\n",
    "    if filename.endswith('.xlsx'):\n",
    "        excel_file = os.path.join(folder_path, filename)\n",
    "        xlsx = pd.ExcelFile(excel_file)\n",
    "        sheet_names = xlsx.sheet_names # Read the sheet names contain inside the excel file\n",
    "        dataframe = {}\n",
    "        defined_column_name = [\"Comment_Number\",\n",
    "                               \"Commenter_Username\",\n",
    "                               \"Comment\",\n",
    "                               \"Comment_Post_Time\",\n",
    "                               \"Overall_CB_Status\",\n",
    "                               \"CB_Type\",\n",
    "                               \"Sexual_Type1\", \"Unnamed_1\", \"Unnamed_2\",\n",
    "                               \"Sexual_Type2\", \"Unnamed_3\", \"Unnamed_4\",\n",
    "                               \"Physical_Appearance\", \"Unnamed_5\", \"Unnamed_6\",\n",
    "                               \"Race\", \"Unnamed_7\", \"Unnamed_8\",\n",
    "                               \"Intellectual\", \"Unnamed_9\", \"Unnamed_10\",\n",
    "                               \"Religious\", \"Unnamed_11\", \"Unnamed_12\",\n",
    "                               \"General_Hate\", \"Unnamed_13\", \"Unnamed_14\",\n",
    "                               \"Purpose_of_CB\",\n",
    "                               \"Insult\", \"Unnamed_15\", \"Unnamed_16\",\n",
    "                               \"Defensive\", \"Unnamed_17\", \"Unnamed_18\",\n",
    "                               \"Directionality\", \n",
    "                               \"Directed_Username\", \"Unnamed_19\", \"Unnamed_20\",\n",
    "                               \"Other_Aspects\",\n",
    "                               \"Depression\", \"Unnamed_21\", \"Unnamed_22\",\n",
    "                               \"Suicides\", \"Unnamed_23\", \"Unnamed_24\",\n",
    "                               \"Stress\", \"Unnamed_25\", \"Unnamed_26\",\n",
    "                               \"Discrimination\", \"Unnamed_27\", \"Unnamed_28\"]\n",
    "        \n",
    "        for sheet_name in sheet_names:\n",
    "            # Retrive the dataframe for that specific sheet name\n",
    "            dataframe[sheet_name] = pd.read_excel(excel_file, sheet_name)\n",
    "            \n",
    "            # Redefine the columns' name based on the defined_column_name\n",
    "            try:\n",
    "                dataframe[sheet_name].columns = defined_column_name\n",
    "            except:\n",
    "                print(f'{filename} : {sheet_name}.')\n",
    "                \n",
    "        \n",
    "        for item in dataframe.values():\n",
    "            # Drop the first two rows of the dataframe due to formatting issue\n",
    "            item = item.drop(item.index[:2])\n",
    "            \n",
    "            # Drop unnecessary attributes/columns from the dataframe\n",
    "            columns_to_drop = [col for col in item.columns if any(substring in col for substring in [\"Comment_Number\",\n",
    "                                                                                                     \"Unnamed\",\n",
    "                                                                                                     \"Commenter_Username\",\n",
    "                                                                                                     \"Comment_Post_Time\",\n",
    "                                                                                                     \"CB_Type\", \n",
    "                                                                                                     \"Purpose_of_CB\",\n",
    "                                                                                                     \"Insult\",\n",
    "                                                                                                     \"Religious\",\n",
    "                                                                                                     \"Defensive\",\n",
    "                                                                                                     \"Other_Aspects\",\n",
    "                                                                                                     'Suicides',\n",
    "                                                                                                     \"Stress\",\n",
    "                                                                                                     \"Depression\",\n",
    "                                                                                                     \"Discrimination\",\n",
    "                                                                                                     \"Directionality\", \n",
    "                                                                                                    \"Directed_Username\"])]\n",
    "\n",
    "            filter_df = item.drop(columns=columns_to_drop)\n",
    "            # Store the dataframe to filtered_dfs\n",
    "            filtered_dfs.append(filter_df)"
   ]
  },
  {
   "cell_type": "markdown",
   "id": "f9704b8f-c2ef-4b69-8259-780a99de4aba",
   "metadata": {},
   "source": [
    "## Data Preprocessing\n",
    "In this stage, we are checking for the followings:\n",
    "* Remove any duplicates items in the 'Comment' columns\n",
    "* Missing values in the attributes, any missing values will be replaced by 0\n",
    "* Check for dataframe data types and perform data type conversion\n",
    "* Check for error data\n",
    "* Text formatting"
   ]
  },
  {
   "cell_type": "markdown",
   "id": "f23d25be-c7c8-439b-88e1-acc5cef307d3",
   "metadata": {},
   "source": [
    "### Removal of Duplicates Data for 'Comments' attribute"
   ]
  },
  {
   "cell_type": "code",
   "execution_count": 3,
   "id": "358f5d8c-440f-4efb-a37f-019599db1274",
   "metadata": {
    "tags": []
   },
   "outputs": [],
   "source": [
    "# Concatenate all the filtered dataframes into one\n",
    "df = pd.concat(filtered_dfs, ignore_index=True)\n",
    "\n",
    "# Removal of duplicates items in the 'Comment' column\n",
    "df = df.drop_duplicates(subset='Comment')"
   ]
  },
  {
   "cell_type": "markdown",
   "id": "7ded2e07-a0de-4e27-8581-9dbda5bbdcf8",
   "metadata": {},
   "source": [
    "### Replacing NA values with 0\n",
    "\n",
    "An assumption is made that the all the cyberbullying texts in the provided original datasets have been correctly labelled as 1. Therefore, the remaining data with NA values will be labelled as 0 which is not a cyberbullying text."
   ]
  },
  {
   "cell_type": "code",
   "execution_count": 4,
   "id": "d21cbca8-6d2a-4665-ae59-d879472d81b8",
   "metadata": {
    "tags": []
   },
   "outputs": [
    {
     "name": "stdout",
     "output_type": "stream",
     "text": [
      "NA values found in the DataFrame. Replacing NA values with 0......\n",
      "No NA values founds in the datasets.\n"
     ]
    }
   ],
   "source": [
    "# Check NA value exists in the concatenated dataframe\n",
    "check_na = df.isna()\n",
    "max_retries = 2\n",
    "retry_count = 0\n",
    "\n",
    "# Replace NA value to 0 if presents in the dataframe\n",
    "while (check_na == True).any().any() and retry_count < max_retries:\n",
    "    print(\"NA values found in the DataFrame. Replacing NA values with 0......\")            \n",
    "    df = df.fillna(0)\n",
    "    check_na = df.isna()\n",
    "    retry_count += 1\n",
    "          \n",
    "if (check_na == True).any().any():\n",
    "    print(\"Maximum retries reached. Some NA values could not be replaced.\")\n",
    "else:\n",
    "    print(\"No NA values founds in the datasets.\")"
   ]
  },
  {
   "cell_type": "markdown",
   "id": "18c8f8a6-ee27-4228-bc29-e30eebf78a53",
   "metadata": {},
   "source": [
    "### Check for Attributes' Data Type\n",
    "According to the attributes' characteristics, all attributes should be in int (1 : True and 0 : False) with the exceptions for 'Comment' which should be in string/object type. "
   ]
  },
  {
   "cell_type": "code",
   "execution_count": 5,
   "id": "1f1df901-5301-44e5-83ba-2173873ff992",
   "metadata": {
    "tags": []
   },
   "outputs": [
    {
     "data": {
      "text/plain": [
       "Comment                object\n",
       "Overall_CB_Status       int64\n",
       "Sexual_Type1           object\n",
       "Sexual_Type2            int64\n",
       "Physical_Appearance     int64\n",
       "Race                   object\n",
       "Intellectual            int64\n",
       "General_Hate           object\n",
       "dtype: object"
      ]
     },
     "execution_count": 5,
     "metadata": {},
     "output_type": "execute_result"
    }
   ],
   "source": [
    "# Check for dataframe's data types\n",
    "df.dtypes"
   ]
  },
  {
   "cell_type": "code",
   "execution_count": 6,
   "id": "921717f1-4330-4762-b37e-3376ee7a46c0",
   "metadata": {
    "tags": []
   },
   "outputs": [
    {
     "name": "stdout",
     "output_type": "stream",
     "text": [
      "Comment                object\n",
      "Overall_CB_Status       int64\n",
      "Sexual_Type1            int64\n",
      "Sexual_Type2            int64\n",
      "Physical_Appearance     int64\n",
      "Race                    int64\n",
      "Intellectual            int64\n",
      "General_Hate            int64\n",
      "dtype: object\n"
     ]
    }
   ],
   "source": [
    "selected_column = ['Sexual_Type1', 'Race', 'General_Hate']\n",
    "\n",
    "# Performing data type conversion according to their attributes\n",
    "for column_name in selected_column:\n",
    "    df[column_name] = pd.to_numeric(df[column_name], errors='coerce').fillna(0)\n",
    "    df[column_name] = df[column_name].astype('int64')\n",
    "\n",
    "print(df.dtypes)"
   ]
  },
  {
   "cell_type": "markdown",
   "id": "d6302db1-55d2-40ef-b2f6-8094f7a28485",
   "metadata": {},
   "source": [
    "### Check for Error Data\n",
    "Since all attributes with the exception of 'Comments' are in int (1 : True, 0 : False), and thus the min and max value within the attribute should be either 0 or 1 only.\n",
    "\n",
    "Any error data will be removed from the dataframe."
   ]
  },
  {
   "cell_type": "code",
   "execution_count": 7,
   "id": "6d97bae4-22d9-4f34-a260-cfafd150bfb1",
   "metadata": {
    "tags": []
   },
   "outputs": [
    {
     "data": {
      "text/html": [
       "<div>\n",
       "<style scoped>\n",
       "    .dataframe tbody tr th:only-of-type {\n",
       "        vertical-align: middle;\n",
       "    }\n",
       "\n",
       "    .dataframe tbody tr th {\n",
       "        vertical-align: top;\n",
       "    }\n",
       "\n",
       "    .dataframe thead th {\n",
       "        text-align: right;\n",
       "    }\n",
       "</style>\n",
       "<table border=\"1\" class=\"dataframe\">\n",
       "  <thead>\n",
       "    <tr style=\"text-align: right;\">\n",
       "      <th></th>\n",
       "      <th>Overall_CB_Status</th>\n",
       "      <th>Sexual_Type1</th>\n",
       "      <th>Sexual_Type2</th>\n",
       "      <th>Physical_Appearance</th>\n",
       "      <th>Race</th>\n",
       "      <th>Intellectual</th>\n",
       "      <th>General_Hate</th>\n",
       "    </tr>\n",
       "  </thead>\n",
       "  <tbody>\n",
       "    <tr>\n",
       "      <th>count</th>\n",
       "      <td>7943.000000</td>\n",
       "      <td>7943.00000</td>\n",
       "      <td>7943.000000</td>\n",
       "      <td>7943.000000</td>\n",
       "      <td>7943.000000</td>\n",
       "      <td>7943.000000</td>\n",
       "      <td>7943.000000</td>\n",
       "    </tr>\n",
       "    <tr>\n",
       "      <th>mean</th>\n",
       "      <td>0.134080</td>\n",
       "      <td>0.02883</td>\n",
       "      <td>0.013471</td>\n",
       "      <td>0.019388</td>\n",
       "      <td>0.013723</td>\n",
       "      <td>0.019262</td>\n",
       "      <td>0.068362</td>\n",
       "    </tr>\n",
       "    <tr>\n",
       "      <th>std</th>\n",
       "      <td>0.341867</td>\n",
       "      <td>0.16734</td>\n",
       "      <td>0.115287</td>\n",
       "      <td>0.137894</td>\n",
       "      <td>0.116345</td>\n",
       "      <td>0.137454</td>\n",
       "      <td>0.252382</td>\n",
       "    </tr>\n",
       "    <tr>\n",
       "      <th>min</th>\n",
       "      <td>0.000000</td>\n",
       "      <td>0.00000</td>\n",
       "      <td>0.000000</td>\n",
       "      <td>0.000000</td>\n",
       "      <td>0.000000</td>\n",
       "      <td>0.000000</td>\n",
       "      <td>0.000000</td>\n",
       "    </tr>\n",
       "    <tr>\n",
       "      <th>25%</th>\n",
       "      <td>0.000000</td>\n",
       "      <td>0.00000</td>\n",
       "      <td>0.000000</td>\n",
       "      <td>0.000000</td>\n",
       "      <td>0.000000</td>\n",
       "      <td>0.000000</td>\n",
       "      <td>0.000000</td>\n",
       "    </tr>\n",
       "    <tr>\n",
       "      <th>50%</th>\n",
       "      <td>0.000000</td>\n",
       "      <td>0.00000</td>\n",
       "      <td>0.000000</td>\n",
       "      <td>0.000000</td>\n",
       "      <td>0.000000</td>\n",
       "      <td>0.000000</td>\n",
       "      <td>0.000000</td>\n",
       "    </tr>\n",
       "    <tr>\n",
       "      <th>75%</th>\n",
       "      <td>0.000000</td>\n",
       "      <td>0.00000</td>\n",
       "      <td>0.000000</td>\n",
       "      <td>0.000000</td>\n",
       "      <td>0.000000</td>\n",
       "      <td>0.000000</td>\n",
       "      <td>0.000000</td>\n",
       "    </tr>\n",
       "    <tr>\n",
       "      <th>max</th>\n",
       "      <td>3.000000</td>\n",
       "      <td>1.00000</td>\n",
       "      <td>1.000000</td>\n",
       "      <td>1.000000</td>\n",
       "      <td>1.000000</td>\n",
       "      <td>1.000000</td>\n",
       "      <td>1.000000</td>\n",
       "    </tr>\n",
       "  </tbody>\n",
       "</table>\n",
       "</div>"
      ],
      "text/plain": [
       "       Overall_CB_Status  Sexual_Type1  Sexual_Type2  Physical_Appearance  \\\n",
       "count        7943.000000    7943.00000   7943.000000          7943.000000   \n",
       "mean            0.134080       0.02883      0.013471             0.019388   \n",
       "std             0.341867       0.16734      0.115287             0.137894   \n",
       "min             0.000000       0.00000      0.000000             0.000000   \n",
       "25%             0.000000       0.00000      0.000000             0.000000   \n",
       "50%             0.000000       0.00000      0.000000             0.000000   \n",
       "75%             0.000000       0.00000      0.000000             0.000000   \n",
       "max             3.000000       1.00000      1.000000             1.000000   \n",
       "\n",
       "              Race  Intellectual  General_Hate  \n",
       "count  7943.000000   7943.000000   7943.000000  \n",
       "mean      0.013723      0.019262      0.068362  \n",
       "std       0.116345      0.137454      0.252382  \n",
       "min       0.000000      0.000000      0.000000  \n",
       "25%       0.000000      0.000000      0.000000  \n",
       "50%       0.000000      0.000000      0.000000  \n",
       "75%       0.000000      0.000000      0.000000  \n",
       "max       1.000000      1.000000      1.000000  "
      ]
     },
     "execution_count": 7,
     "metadata": {},
     "output_type": "execute_result"
    }
   ],
   "source": [
    "df.describe()"
   ]
  },
  {
   "cell_type": "markdown",
   "id": "25f7c01e-0368-4f8f-90ee-0741d91c0a2c",
   "metadata": {
    "tags": []
   },
   "source": [
    "For 'Overall_CB_Status' attribute, it contains value larger than 1. Therefore, the respective rows with value greater than 1 should be removed from the dataset."
   ]
  },
  {
   "cell_type": "code",
   "execution_count": 8,
   "id": "3dea886f-3de7-4a2f-8ece-72e2ac95a269",
   "metadata": {
    "tags": []
   },
   "outputs": [
    {
     "data": {
      "text/html": [
       "<div>\n",
       "<style scoped>\n",
       "    .dataframe tbody tr th:only-of-type {\n",
       "        vertical-align: middle;\n",
       "    }\n",
       "\n",
       "    .dataframe tbody tr th {\n",
       "        vertical-align: top;\n",
       "    }\n",
       "\n",
       "    .dataframe thead th {\n",
       "        text-align: right;\n",
       "    }\n",
       "</style>\n",
       "<table border=\"1\" class=\"dataframe\">\n",
       "  <thead>\n",
       "    <tr style=\"text-align: right;\">\n",
       "      <th></th>\n",
       "      <th>Overall_CB_Status</th>\n",
       "      <th>Sexual_Type1</th>\n",
       "      <th>Sexual_Type2</th>\n",
       "      <th>Physical_Appearance</th>\n",
       "      <th>Race</th>\n",
       "      <th>Intellectual</th>\n",
       "      <th>General_Hate</th>\n",
       "    </tr>\n",
       "  </thead>\n",
       "  <tbody>\n",
       "    <tr>\n",
       "      <th>count</th>\n",
       "      <td>7942.000000</td>\n",
       "      <td>7942.000000</td>\n",
       "      <td>7942.000000</td>\n",
       "      <td>7942.000000</td>\n",
       "      <td>7942.000000</td>\n",
       "      <td>7942.000000</td>\n",
       "      <td>7942.000000</td>\n",
       "    </tr>\n",
       "    <tr>\n",
       "      <th>mean</th>\n",
       "      <td>0.133719</td>\n",
       "      <td>0.028834</td>\n",
       "      <td>0.013473</td>\n",
       "      <td>0.019391</td>\n",
       "      <td>0.013725</td>\n",
       "      <td>0.019265</td>\n",
       "      <td>0.068371</td>\n",
       "    </tr>\n",
       "    <tr>\n",
       "      <th>std</th>\n",
       "      <td>0.340372</td>\n",
       "      <td>0.167350</td>\n",
       "      <td>0.115295</td>\n",
       "      <td>0.137902</td>\n",
       "      <td>0.116352</td>\n",
       "      <td>0.137462</td>\n",
       "      <td>0.252397</td>\n",
       "    </tr>\n",
       "    <tr>\n",
       "      <th>min</th>\n",
       "      <td>0.000000</td>\n",
       "      <td>0.000000</td>\n",
       "      <td>0.000000</td>\n",
       "      <td>0.000000</td>\n",
       "      <td>0.000000</td>\n",
       "      <td>0.000000</td>\n",
       "      <td>0.000000</td>\n",
       "    </tr>\n",
       "    <tr>\n",
       "      <th>25%</th>\n",
       "      <td>0.000000</td>\n",
       "      <td>0.000000</td>\n",
       "      <td>0.000000</td>\n",
       "      <td>0.000000</td>\n",
       "      <td>0.000000</td>\n",
       "      <td>0.000000</td>\n",
       "      <td>0.000000</td>\n",
       "    </tr>\n",
       "    <tr>\n",
       "      <th>50%</th>\n",
       "      <td>0.000000</td>\n",
       "      <td>0.000000</td>\n",
       "      <td>0.000000</td>\n",
       "      <td>0.000000</td>\n",
       "      <td>0.000000</td>\n",
       "      <td>0.000000</td>\n",
       "      <td>0.000000</td>\n",
       "    </tr>\n",
       "    <tr>\n",
       "      <th>75%</th>\n",
       "      <td>0.000000</td>\n",
       "      <td>0.000000</td>\n",
       "      <td>0.000000</td>\n",
       "      <td>0.000000</td>\n",
       "      <td>0.000000</td>\n",
       "      <td>0.000000</td>\n",
       "      <td>0.000000</td>\n",
       "    </tr>\n",
       "    <tr>\n",
       "      <th>max</th>\n",
       "      <td>1.000000</td>\n",
       "      <td>1.000000</td>\n",
       "      <td>1.000000</td>\n",
       "      <td>1.000000</td>\n",
       "      <td>1.000000</td>\n",
       "      <td>1.000000</td>\n",
       "      <td>1.000000</td>\n",
       "    </tr>\n",
       "  </tbody>\n",
       "</table>\n",
       "</div>"
      ],
      "text/plain": [
       "       Overall_CB_Status  Sexual_Type1  Sexual_Type2  Physical_Appearance  \\\n",
       "count        7942.000000   7942.000000   7942.000000          7942.000000   \n",
       "mean            0.133719      0.028834      0.013473             0.019391   \n",
       "std             0.340372      0.167350      0.115295             0.137902   \n",
       "min             0.000000      0.000000      0.000000             0.000000   \n",
       "25%             0.000000      0.000000      0.000000             0.000000   \n",
       "50%             0.000000      0.000000      0.000000             0.000000   \n",
       "75%             0.000000      0.000000      0.000000             0.000000   \n",
       "max             1.000000      1.000000      1.000000             1.000000   \n",
       "\n",
       "              Race  Intellectual  General_Hate  \n",
       "count  7942.000000   7942.000000   7942.000000  \n",
       "mean      0.013725      0.019265      0.068371  \n",
       "std       0.116352      0.137462      0.252397  \n",
       "min       0.000000      0.000000      0.000000  \n",
       "25%       0.000000      0.000000      0.000000  \n",
       "50%       0.000000      0.000000      0.000000  \n",
       "75%       0.000000      0.000000      0.000000  \n",
       "max       1.000000      1.000000      1.000000  "
      ]
     },
     "execution_count": 8,
     "metadata": {},
     "output_type": "execute_result"
    }
   ],
   "source": [
    "# Print rows where one of the attributes is equal to 3\n",
    "df = df[(df['Overall_CB_Status'] <= 1)]\n",
    "df.describe()"
   ]
  },
  {
   "cell_type": "code",
   "execution_count": 9,
   "id": "03ebd715-cc52-4d0d-a64d-67fa5fc8c685",
   "metadata": {
    "tags": []
   },
   "outputs": [
    {
     "name": "stdout",
     "output_type": "stream",
     "text": [
      "0    6880\n",
      "1    1062\n",
      "Name: Overall_CB_Status, dtype: int64\n",
      "0    7713\n",
      "1     229\n",
      "Name: Sexual_Type1, dtype: int64\n",
      "0    7835\n",
      "1     107\n",
      "Name: Sexual_Type2, dtype: int64\n",
      "0    7788\n",
      "1     154\n",
      "Name: Physical_Appearance, dtype: int64\n",
      "0    7833\n",
      "1     109\n",
      "Name: Race, dtype: int64\n",
      "0    7789\n",
      "1     153\n",
      "Name: Intellectual, dtype: int64\n",
      "0    7399\n",
      "1     543\n",
      "Name: General_Hate, dtype: int64\n"
     ]
    }
   ],
   "source": [
    "for column in df.columns:\n",
    "    if df[column].dtype != object:\n",
    "        value_counts = df[column].value_counts()\n",
    "        print(value_counts)"
   ]
  },
  {
   "cell_type": "code",
   "execution_count": 10,
   "id": "466dbd9c-7908-4c71-8e84-0e236da4ae3f",
   "metadata": {
    "tags": []
   },
   "outputs": [],
   "source": [
    "# file_path = './preprocess_data.csv'\n",
    "# df.to_csv(file_path, index=False)"
   ]
  },
  {
   "cell_type": "code",
   "execution_count": null,
   "id": "764c405e-3644-401b-8642-0147f91e50a6",
   "metadata": {},
   "outputs": [],
   "source": []
  }
 ],
 "metadata": {
  "kernelspec": {
   "display_name": "Python 3 (ipykernel)",
   "language": "python",
   "name": "python3"
  },
  "language_info": {
   "codemirror_mode": {
    "name": "ipython",
    "version": 3
   },
   "file_extension": ".py",
   "mimetype": "text/x-python",
   "name": "python",
   "nbconvert_exporter": "python",
   "pygments_lexer": "ipython3",
   "version": "3.11.3"
  }
 },
 "nbformat": 4,
 "nbformat_minor": 5
}
